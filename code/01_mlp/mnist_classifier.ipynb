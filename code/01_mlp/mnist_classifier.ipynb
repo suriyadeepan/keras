{
 "metadata": {
  "name": ""
 },
 "nbformat": 3,
 "nbformat_minor": 0,
 "worksheets": [
  {
   "cells": [
    {
     "cell_type": "code",
     "collapsed": false,
     "input": [
      "# code comes from here > https://raw.githubusercontent.com/fchollet/keras/master/examples/mnist_mlp.py\n",
      "import numpy as np\n",
      "from keras.models import Sequential\n",
      "from keras.layers.core import Dense, Dropout, Activation\n",
      "from keras.optimizers import SGD, Adam, RMSprop\n",
      "\n",
      "from mnist import load_data\n",
      "\n",
      "from keras.utils import np_utils"
     ],
     "language": "python",
     "metadata": {},
     "outputs": [
      {
       "output_type": "stream",
       "stream": "stdout",
       "text": [
        "Using Theano backend.\n"
       ]
      },
      {
       "output_type": "stream",
       "stream": "stderr",
       "text": [
        "Using gpu device 0: GeForce GTX 960 (CNMeM is disabled)\n"
       ]
      }
     ],
     "prompt_number": 2
    },
    {
     "cell_type": "code",
     "collapsed": false,
     "input": [
      "## Load dataset ##\n",
      "datasets = load_data('mnist.pkl.gz')\n",
      "\n",
      "train_set_x, train_set_y = datasets[0]\n",
      "valid_set_x, valid_set_y = datasets[1]\n",
      "test_set_x, test_set_y = datasets[2]"
     ],
     "language": "python",
     "metadata": {},
     "outputs": [
      {
       "output_type": "stream",
       "stream": "stdout",
       "text": [
        "... loading data\n"
       ]
      },
      {
       "output_type": "stream",
       "stream": "stdout",
       "text": [
        "... loading data\n"
       ]
      }
     ],
     "prompt_number": 4
    },
    {
     "cell_type": "code",
     "collapsed": false,
     "input": [
      "batch_size = 128\n",
      "nb_classes = 10\n",
      "nb_epoch = 20\n"
     ],
     "language": "python",
     "metadata": {},
     "outputs": [],
     "prompt_number": 5
    },
    {
     "cell_type": "code",
     "collapsed": false,
     "input": [
      "Y_train = np_utils.to_categorical(train_set_y, nb_classes)\n",
      "Y_test = np_utils.to_categorical(test_set_y, nb_classes)"
     ],
     "language": "python",
     "metadata": {},
     "outputs": [],
     "prompt_number": 6
    },
    {
     "cell_type": "code",
     "collapsed": false,
     "input": [
      "model = Sequential()\n",
      "model.add(Dense(512, input_shape=(784,)))\n",
      "model.add(Activation('relu'))\n",
      "model.add(Dropout(0.2))\n",
      "model.add(Dense(512))\n",
      "model.add(Activation('relu'))\n",
      "model.add(Dropout(0.2))\n",
      "model.add(Dense(10))\n",
      "model.add(Activation('softmax'))"
     ],
     "language": "python",
     "metadata": {},
     "outputs": [],
     "prompt_number": 7
    },
    {
     "cell_type": "code",
     "collapsed": false,
     "input": [
      "rms = RMSprop()\n",
      "model.compile(loss='categorical_crossentropy', optimizer=rms)"
     ],
     "language": "python",
     "metadata": {},
     "outputs": [],
     "prompt_number": 9
    },
    {
     "cell_type": "code",
     "collapsed": false,
     "input": [
      "model.fit(train_set_x, Y_train,\n",
      "          batch_size=batch_size, nb_epoch=nb_epoch,\n",
      "          show_accuracy=True, verbose=2,\n",
      "          validation_data=(test_set_x, Y_test))"
     ],
     "language": "python",
     "metadata": {},
     "outputs": [
      {
       "output_type": "stream",
       "stream": "stdout",
       "text": [
        "Train on 50000 samples, validate on 10000 samples\n",
        "Epoch 1/20\n",
        "2s - loss: 0.3091 - acc: 0.9051 - val_loss: 0.1268 - val_acc: 0.9603\n"
       ]
      },
      {
       "output_type": "stream",
       "stream": "stdout",
       "text": [
        "Epoch 2/20\n",
        "2s - loss: 0.1247 - acc: 0.9613 - val_loss: 0.0871 - val_acc: 0.9723\n"
       ]
      },
      {
       "output_type": "stream",
       "stream": "stdout",
       "text": [
        "Epoch 3/20\n",
        "2s - loss: 0.0871 - acc: 0.9734 - val_loss: 0.0755 - val_acc: 0.9758\n"
       ]
      },
      {
       "output_type": "stream",
       "stream": "stdout",
       "text": [
        "Epoch 4/20\n",
        "2s - loss: 0.0676 - acc: 0.9785 - val_loss: 0.0684 - val_acc: 0.9780\n"
       ]
      },
      {
       "output_type": "stream",
       "stream": "stdout",
       "text": [
        "Epoch 5/20\n",
        "2s - loss: 0.0519 - acc: 0.9835 - val_loss: 0.0793 - val_acc: 0.9762\n"
       ]
      },
      {
       "output_type": "stream",
       "stream": "stdout",
       "text": [
        "Epoch 6/20\n",
        "2s - loss: 0.0436 - acc: 0.9863 - val_loss: 0.0732 - val_acc: 0.9783\n"
       ]
      },
      {
       "output_type": "stream",
       "stream": "stdout",
       "text": [
        "Epoch 7/20\n",
        "2s - loss: 0.0365 - acc: 0.9885 - val_loss: 0.0672 - val_acc: 0.9812\n"
       ]
      },
      {
       "output_type": "stream",
       "stream": "stdout",
       "text": [
        "Epoch 8/20\n",
        "2s - loss: 0.0303 - acc: 0.9904 - val_loss: 0.0571 - val_acc: 0.9833\n"
       ]
      },
      {
       "output_type": "stream",
       "stream": "stdout",
       "text": [
        "Epoch 9/20\n",
        "2s - loss: 0.0259 - acc: 0.9915 - val_loss: 0.0655 - val_acc: 0.9816\n"
       ]
      },
      {
       "output_type": "stream",
       "stream": "stdout",
       "text": [
        "Epoch 10/20\n",
        "2s - loss: 0.0223 - acc: 0.9925 - val_loss: 0.0645 - val_acc: 0.9835\n"
       ]
      },
      {
       "output_type": "stream",
       "stream": "stdout",
       "text": [
        "Epoch 11/20\n",
        "2s - loss: 0.0196 - acc: 0.9933 - val_loss: 0.0640 - val_acc: 0.9838\n"
       ]
      },
      {
       "output_type": "stream",
       "stream": "stdout",
       "text": [
        "Epoch 12/20\n",
        "2s - loss: 0.0178 - acc: 0.9939 - val_loss: 0.0757 - val_acc: 0.9806\n"
       ]
      },
      {
       "output_type": "stream",
       "stream": "stdout",
       "text": [
        "Epoch 13/20\n",
        "2s - loss: 0.0153 - acc: 0.9949 - val_loss: 0.0728 - val_acc: 0.9824\n"
       ]
      },
      {
       "output_type": "stream",
       "stream": "stdout",
       "text": [
        "Epoch 14/20\n",
        "2s - loss: 0.0140 - acc: 0.9951 - val_loss: 0.0632 - val_acc: 0.9850\n"
       ]
      },
      {
       "output_type": "stream",
       "stream": "stdout",
       "text": [
        "Epoch 15/20\n",
        "2s - loss: 0.0126 - acc: 0.9957 - val_loss: 0.0657 - val_acc: 0.9842\n"
       ]
      },
      {
       "output_type": "stream",
       "stream": "stdout",
       "text": [
        "Epoch 16/20\n",
        "2s - loss: 0.0111 - acc: 0.9962 - val_loss: 0.0717 - val_acc: 0.9830\n"
       ]
      },
      {
       "output_type": "stream",
       "stream": "stdout",
       "text": [
        "Epoch 17/20\n",
        "2s - loss: 0.0100 - acc: 0.9967 - val_loss: 0.0685 - val_acc: 0.9827\n"
       ]
      },
      {
       "output_type": "stream",
       "stream": "stdout",
       "text": [
        "Epoch 18/20\n",
        "2s - loss: 0.0107 - acc: 0.9964 - val_loss: 0.0667 - val_acc: 0.9841\n"
       ]
      },
      {
       "output_type": "stream",
       "stream": "stdout",
       "text": [
        "Epoch 19/20\n",
        "3s - loss: 0.0083 - acc: 0.9973 - val_loss: 0.0720 - val_acc: 0.9836\n"
       ]
      },
      {
       "output_type": "stream",
       "stream": "stdout",
       "text": [
        "Epoch 20/20\n",
        "2s - loss: 0.0086 - acc: 0.9970 - val_loss: 0.0695 - val_acc: 0.9851\n"
       ]
      },
      {
       "metadata": {},
       "output_type": "pyout",
       "prompt_number": 11,
       "text": [
        "<keras.callbacks.History at 0x7f38ef946c90>"
       ]
      }
     ],
     "prompt_number": 11
    },
    {
     "cell_type": "code",
     "collapsed": false,
     "input": [
      "# testing\n",
      "score = model.evaluate(test_set_x, Y_test,\n",
      "                       show_accuracy=True, verbose=0)\n",
      "print score"
     ],
     "language": "python",
     "metadata": {},
     "outputs": [
      {
       "output_type": "stream",
       "stream": "stdout",
       "text": [
        "[0.069471946638752974, 0.98509999999999998]\n"
       ]
      }
     ],
     "prompt_number": 12
    }
   ],
   "metadata": {}
  }
 ]
}